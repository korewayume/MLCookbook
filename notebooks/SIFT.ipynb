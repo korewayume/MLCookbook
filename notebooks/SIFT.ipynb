{
 "cells": [
  {
   "cell_type": "code",
   "execution_count": 1,
   "metadata": {
    "collapsed": true
   },
   "outputs": [],
   "source": [
    "# -*- coding: utf-8 -*-\n",
    "import cv2\n",
    "import numpy as np\n",
    "import scipy as sp\n",
    "import pandas as pd\n",
    "import matplotlib.pyplot as plt\n",
    "from PIL import Image\n",
    "np.set_printoptions(precision=4, threshold=500)\n",
    "pd.options.display.max_rows = 100\n",
    "%matplotlib inline"
   ]
  },
  {
   "cell_type": "code",
   "execution_count": 2,
   "metadata": {
    "collapsed": true
   },
   "outputs": [],
   "source": [
    "image1 = cv2.imread(\"climbing_1_small.jpg\")\n",
    "image2 = cv2.imread(\"climbing_2_small.jpg\")\n",
    "gray1 = cv2.imread(\"climbing_1_small.jpg\", cv2.IMREAD_GRAYSCALE)\n",
    "gray2 = cv2.imread(\"climbing_2_small.jpg\", cv2.IMREAD_GRAYSCALE)\n",
    "sift = cv2.SIFT()"
   ]
  },
  {
   "cell_type": "code",
   "execution_count": 3,
   "metadata": {
    "collapsed": false
   },
   "outputs": [],
   "source": [
    "# find the keypoints and descriptors with SIFT \n",
    "keypoint1, descriptors1 = sift.detectAndCompute(gray1,None) \n",
    "keypoint2, descriptors2 = sift.detectAndCompute(gray2,None)"
   ]
  },
  {
   "cell_type": "code",
   "execution_count": 4,
   "metadata": {
    "collapsed": false
   },
   "outputs": [],
   "source": [
    "# FLANN parameters \n",
    "FLANN_INDEX_KDTREE = 0\n",
    "index_params = dict(algorithm = FLANN_INDEX_KDTREE, trees = 5) \n",
    "search_params = dict(checks=50)  # or pass empty dictionary \n",
    "flann = cv2.FlannBasedMatcher(index_params,search_params) \n",
    "matches = flann.knnMatch(descriptors1,descriptors2,k=2) "
   ]
  },
  {
   "cell_type": "code",
   "execution_count": 5,
   "metadata": {
    "collapsed": false
   },
   "outputs": [
    {
     "name": "stdout",
     "output_type": "stream",
     "text": [
      "good 67\n"
     ]
    }
   ],
   "source": [
    "# Apply ratio test \n",
    "good = [] \n",
    "for m,n in matches:\n",
    "    if m.distance < 0.45*n.distance:\n",
    "        good.append(m)\n",
    "print 'good',len(good) "
   ]
  },
  {
   "cell_type": "code",
   "execution_count": 6,
   "metadata": {
    "collapsed": false
   },
   "outputs": [],
   "source": [
    "h1, w1 = image1.shape[:2]\n",
    "h2, w2 = image2.shape[:2]\n",
    "\n",
    "h1, w1 = image1.shape[:2] \n",
    "h2, w2 = image2.shape[:2]\n",
    "\n",
    "\n",
    "view = sp.zeros((max(h1, h2), w1 + w2, 3), np.uint8)\n",
    "\n",
    "view[:h1, :w1, :] = image1\n",
    "view[:h2, w1:, :] = image2"
   ]
  },
  {
   "cell_type": "code",
   "execution_count": 7,
   "metadata": {
    "collapsed": false
   },
   "outputs": [],
   "source": [
    "for m in good:\n",
    "    # draw the keypoints\n",
    "    color = tuple([np.random.randint(0, 255) for _ in xrange(3)])\n",
    "    cv2.line(\n",
    "        view,\n",
    "        (int(keypoint1[m.queryIdx].pt[0]), int(keypoint1[m.queryIdx].pt[1])),\n",
    "        (int(keypoint2[m.trainIdx].pt[0] + w1), int(keypoint2[m.trainIdx].pt[1])),\n",
    "        color,3\n",
    "    ) "
   ]
  },
  {
   "cell_type": "code",
   "execution_count": 8,
   "metadata": {
    "collapsed": true
   },
   "outputs": [],
   "source": [
    "while True:\n",
    "    cv2.imshow('image', view)\n",
    "    if cv2.waitKey(20) & 0xFF == ord('q'):\n",
    "        break\n",
    "cv2.destroyAllWindows()"
   ]
  }
 ],
 "metadata": {
  "kernelspec": {
   "display_name": "Python 2",
   "language": "python",
   "name": "python2"
  },
  "language_info": {
   "codemirror_mode": {
    "name": "ipython",
    "version": 2
   },
   "file_extension": ".py",
   "mimetype": "text/x-python",
   "name": "python",
   "nbconvert_exporter": "python",
   "pygments_lexer": "ipython2",
   "version": "2.7.13"
  }
 },
 "nbformat": 4,
 "nbformat_minor": 2
}
