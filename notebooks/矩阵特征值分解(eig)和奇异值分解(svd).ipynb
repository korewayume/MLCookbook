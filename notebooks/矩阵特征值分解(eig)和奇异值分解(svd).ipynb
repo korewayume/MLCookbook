{
 "cells": [
  {
   "cell_type": "markdown",
   "metadata": {},
   "source": [
    "# 矩阵特征值分解(eig)和奇异值分解(svd)"
   ]
  },
  {
   "cell_type": "markdown",
   "metadata": {},
   "source": [
    "[矩阵分解](http://blog.csdn.net/MyArrow/article/details/53780972)\n",
    "\n",
    "只有方阵可以做特征值分解\n",
    "\n",
    "非方阵只能做奇异值分解"
   ]
  },
  {
   "cell_type": "code",
   "execution_count": 1,
   "metadata": {
    "collapsed": true
   },
   "outputs": [],
   "source": [
    "import numpy as np"
   ]
  },
  {
   "cell_type": "markdown",
   "metadata": {},
   "source": [
    "## 对于方阵 m=n"
   ]
  },
  {
   "cell_type": "markdown",
   "metadata": {},
   "source": [
    "设$A∈R^{n×n}$，则$A$可表示为：\n",
    "\n",
    "$A=X∧X^{-1}$\n",
    "\n",
    "$X$的列：为$A$的特征向量\n",
    "\n",
    "$∧$为对角矩阵：对角线上的值为A的特征值，按从大到小的顺序排列"
   ]
  },
  {
   "cell_type": "code",
   "execution_count": 2,
   "metadata": {
    "collapsed": false
   },
   "outputs": [
    {
     "data": {
      "text/plain": [
       "True"
      ]
     },
     "execution_count": 2,
     "metadata": {},
     "output_type": "execute_result"
    }
   ],
   "source": [
    "m, n = 5, 5\n",
    "\n",
    "A = np.random.randint(0, 50, size=(m, n))\n",
    "w, v = np.linalg.eig(A)\n",
    "np.allclose(A, v.dot(np.diag(w)).dot(np.linalg.inv(v)))"
   ]
  },
  {
   "cell_type": "markdown",
   "metadata": {},
   "source": [
    "## 对于非方阵"
   ]
  },
  {
   "cell_type": "markdown",
   "metadata": {},
   "source": [
    "设$A∈R^{m×n}$，且$rank(A) = r (r > 0)$，则矩阵A的奇异值分解(SVD)可表示为：\n",
    "\n",
    "$A=UΣV^T$\n",
    "\n",
    "$$A=U\\begin{bmatrix}Σ & 0\\\\0 & 0\\\\\\end{bmatrix}V^T=σ_1u_1v^T_1+σ_2u_2v^T_2+σ_ru_rv^T_r$$\n",
    "\n",
    "$U$和$V$都为正交矩阵\n",
    "\n",
    "**几何含义：**\n",
    "\n",
    "> **表示找到了$U$和$V$这样两组基：**$A$矩阵的作用是将一个向量从$V$这组正交基向量的空间旋转到$U$这组正交基向量的空间，并对每个方向进行了一定的缩放(由$Σ$决定），缩放因子就是各个奇异值。如果$V$的维度比$U$大，则表示还进行了投影。\n",
    "\n",
    "> **奇异值分解：**将一个矩阵原本混合在一起的三种作用效果，分解出来了。"
   ]
  },
  {
   "cell_type": "markdown",
   "metadata": {},
   "source": [
    "### m>n"
   ]
  },
  {
   "cell_type": "code",
   "execution_count": 3,
   "metadata": {
    "collapsed": false
   },
   "outputs": [
    {
     "data": {
      "text/plain": [
       "True"
      ]
     },
     "execution_count": 3,
     "metadata": {},
     "output_type": "execute_result"
    }
   ],
   "source": [
    "m, n = 5, 3\n",
    "\n",
    "A = np.random.randint(0, 50, size=(m, n))\n",
    "U, s, V = np.linalg.svd(A)\n",
    "S = np.zeros((m, n))\n",
    "S[:n, :n] = np.diag(s)\n",
    "np.allclose(A, U.dot(S).dot(V))"
   ]
  },
  {
   "cell_type": "markdown",
   "metadata": {},
   "source": [
    "### m<n"
   ]
  },
  {
   "cell_type": "code",
   "execution_count": 4,
   "metadata": {
    "collapsed": false
   },
   "outputs": [
    {
     "data": {
      "text/plain": [
       "True"
      ]
     },
     "execution_count": 4,
     "metadata": {},
     "output_type": "execute_result"
    }
   ],
   "source": [
    "m, n = 3, 5\n",
    "\n",
    "A = np.random.randint(0, 50, size=(m, n))\n",
    "U, s, V = np.linalg.svd(A, full_matrices=False)\n",
    "S = np.diag(s)\n",
    "np.allclose(A, U.dot(S).dot(V))"
   ]
  }
 ],
 "metadata": {
  "kernelspec": {
   "display_name": "Python 2",
   "language": "python",
   "name": "python2"
  },
  "language_info": {
   "codemirror_mode": {
    "name": "ipython",
    "version": 2
   },
   "file_extension": ".py",
   "mimetype": "text/x-python",
   "name": "python",
   "nbconvert_exporter": "python",
   "pygments_lexer": "ipython2",
   "version": "2.7.13"
  }
 },
 "nbformat": 4,
 "nbformat_minor": 2
}
