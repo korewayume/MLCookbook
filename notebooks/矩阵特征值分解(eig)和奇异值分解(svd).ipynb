{
 "cells": [
  {
   "cell_type": "markdown",
   "metadata": {},
   "source": [
    "# 矩阵特征值分解(eig)和奇异值分解(svd)"
   ]
  },
  {
   "cell_type": "markdown",
   "metadata": {},
   "source": [
    "[矩阵分解](http://blog.csdn.net/MyArrow/article/details/53780972)\n",
    "\n",
    "只有方阵可以做特征值分解\n",
    "\n",
    "非方阵只能做奇异值分解"
   ]
  },
  {
   "cell_type": "code",
   "execution_count": 1,
   "metadata": {
    "collapsed": true
   },
   "outputs": [],
   "source": [
    "import numpy as np"
   ]
  },
  {
   "cell_type": "markdown",
   "metadata": {},
   "source": [
    "## 对于方阵 m=n"
   ]
  },
  {
   "cell_type": "markdown",
   "metadata": {},
   "source": [
    "设$A∈R^{n×n}$，则$A$可表示为：\n",
    "\n",
    "$A=X∧X^{-1}$\n",
    "\n",
    "$X$的列：为$A$的特征向量\n",
    "\n",
    "$∧$为对角矩阵：对角线上的值为A的特征值，按从大到小的顺序排列"
   ]
  },
  {
   "cell_type": "code",
   "execution_count": 2,
   "metadata": {
    "collapsed": false
   },
   "outputs": [
    {
     "data": {
      "text/plain": [
       "True"
      ]
     },
     "execution_count": 2,
     "metadata": {},
     "output_type": "execute_result"
    }
   ],
   "source": [
    "m, n = 5, 5\n",
    "\n",
    "A = np.random.randint(0, 50, size=(m, n))\n",
    "w, v = np.linalg.eig(A)\n",
    "np.allclose(A, v.dot(np.diag(w)).dot(np.linalg.inv(v)))"
   ]
  },
  {
   "cell_type": "markdown",
   "metadata": {},
   "source": [
    "## 对于非方阵"
   ]
  },
  {
   "cell_type": "markdown",
   "metadata": {},
   "source": [
    "设$A∈R^{m×n}$，且$rank(A) = r (r > 0)$，则矩阵A的奇异值分解(SVD)可表示为：\n",
    "\n",
    "$A=UΣV^T$\n",
    "\n",
    "$$A=U\\begin{bmatrix}Σ & 0\\\\0 & 0\\\\\\end{bmatrix}V^T=σ_1u_1v^T_1+σ_2u_2v^T_2+σ_ru_rv^T_r$$\n",
    "\n",
    "$U$和$V$都为正交矩阵\n",
    "\n",
    "**几何含义：**\n",
    "\n",
    "> **表示找到了$U$和$V$这样两组基：**$A$矩阵的作用是将一个向量从$V$这组正交基向量的空间旋转到$U$这组正交基向量的空间，并对每个方向进行了一定的缩放(由$Σ$决定），缩放因子就是各个奇异值。如果$V$的维度比$U$大，则表示还进行了投影。\n",
    "\n",
    "> **奇异值分解：**将一个矩阵原本混合在一起的三种作用效果，分解出来了。"
   ]
  },
  {
   "cell_type": "code",
   "execution_count": 3,
   "metadata": {
    "collapsed": false
   },
   "outputs": [
    {
     "data": {
      "text/plain": [
       "True"
      ]
     },
     "execution_count": 3,
     "metadata": {},
     "output_type": "execute_result"
    }
   ],
   "source": [
    "m, n = np.random.randint(1,50), np.random.randint(1,50)\n",
    "\n",
    "A = np.random.randint(0, 50, size=(m, n))\n",
    "U, s, V = np.linalg.svd(A)\n",
    "S = np.zeros((m, n))\n",
    "S[:min(m,n), :min(m,n)] = np.diag(s)\n",
    "np.allclose(A, U.dot(S).dot(V))"
   ]
  },
  {
   "cell_type": "code",
   "execution_count": 4,
   "metadata": {
    "collapsed": false
   },
   "outputs": [
    {
     "data": {
      "text/plain": [
       "(16, 4, (16, 16), (4, 4))"
      ]
     },
     "execution_count": 4,
     "metadata": {},
     "output_type": "execute_result"
    }
   ],
   "source": [
    "m, n, U.shape, V.shape"
   ]
  },
  {
   "cell_type": "markdown",
   "metadata": {},
   "source": [
    "### m>n (同上)"
   ]
  },
  {
   "cell_type": "code",
   "execution_count": 5,
   "metadata": {
    "collapsed": false
   },
   "outputs": [
    {
     "data": {
      "text/plain": [
       "True"
      ]
     },
     "execution_count": 5,
     "metadata": {},
     "output_type": "execute_result"
    }
   ],
   "source": [
    "m, n = 5, 3\n",
    "\n",
    "A = np.random.randint(0, 50, size=(m, n))\n",
    "U, s, V = np.linalg.svd(A)\n",
    "S = np.zeros((m, n))\n",
    "S[:n, :n] = np.diag(s)\n",
    "np.allclose(A, U.dot(S).dot(V))"
   ]
  },
  {
   "cell_type": "markdown",
   "metadata": {},
   "source": [
    "### m<n (特殊) 此时V不是方阵"
   ]
  },
  {
   "cell_type": "code",
   "execution_count": 6,
   "metadata": {
    "collapsed": false
   },
   "outputs": [
    {
     "data": {
      "text/plain": [
       "True"
      ]
     },
     "execution_count": 6,
     "metadata": {},
     "output_type": "execute_result"
    }
   ],
   "source": [
    "m, n = 3, 5\n",
    "\n",
    "A = np.random.randint(0, 50, size=(m, n))\n",
    "Uf, sf, Vf = np.linalg.svd(A, full_matrices=False) # full_matrices=False\n",
    "Ut, st, Vt = np.linalg.svd(A, full_matrices=True) # full_matrices=True\n",
    "Sf = np.diag(sf)\n",
    "np.allclose(A, Uf.dot(Sf).dot(Vf))"
   ]
  },
  {
   "cell_type": "code",
   "execution_count": 7,
   "metadata": {
    "collapsed": false
   },
   "outputs": [
    {
     "data": {
      "text/plain": [
       "(3, 5, (3, 3), (3, 5))"
      ]
     },
     "execution_count": 7,
     "metadata": {},
     "output_type": "execute_result"
    }
   ],
   "source": [
    "m, n, Uf.shape, Vf.shape"
   ]
  },
  {
   "cell_type": "markdown",
   "metadata": {},
   "source": [
    "此时$V_f$是$V_t$的前$min(m,n)$行"
   ]
  },
  {
   "cell_type": "code",
   "execution_count": 8,
   "metadata": {
    "collapsed": false
   },
   "outputs": [
    {
     "data": {
      "text/plain": [
       "True"
      ]
     },
     "execution_count": 8,
     "metadata": {},
     "output_type": "execute_result"
    }
   ],
   "source": [
    "np.allclose(Vf,Vt[:min(m, n)])"
   ]
  },
  {
   "cell_type": "markdown",
   "metadata": {},
   "source": [
    "# SVD解齐次线性方程组（$Ax=0$）"
   ]
  },
  {
   "cell_type": "markdown",
   "metadata": {},
   "source": [
    "## 如果m<n(行数小于列数,即未知数的数量大于所给方程组数），则齐次线性方程组有非零解。"
   ]
  },
  {
   "cell_type": "code",
   "execution_count": 9,
   "metadata": {
    "collapsed": true
   },
   "outputs": [],
   "source": [
    "m, n = 3, 8\n",
    "A = np.random.randint(0, 50, size=(m, n))\n",
    "U, s, V = np.linalg.svd(A)"
   ]
  },
  {
   "cell_type": "code",
   "execution_count": 10,
   "metadata": {
    "collapsed": false
   },
   "outputs": [],
   "source": [
    "X = V[-1] # 最优解"
   ]
  },
  {
   "cell_type": "code",
   "execution_count": 11,
   "metadata": {
    "collapsed": false
   },
   "outputs": [
    {
     "name": "stdout",
     "output_type": "stream",
     "text": [
      "0 False\n",
      "1 False\n",
      "2 False\n",
      "3 True\n",
      "4 True\n",
      "5 True\n",
      "6 True\n",
      "7 True\n"
     ]
    }
   ],
   "source": [
    "for i in range(V.shape[0]):\n",
    "    print i, np.allclose(A.dot(V[i].T), 0)"
   ]
  },
  {
   "cell_type": "markdown",
   "metadata": {
    "collapsed": false
   },
   "source": [
    "方程组基础解系的个数为$n-rank(A)$故当$m \\ge n$时方程组只有零解"
   ]
  },
  {
   "cell_type": "markdown",
   "metadata": {
    "collapsed": true
   },
   "source": [
    "# SVD解非齐次线性方程组（$Ax=b$）"
   ]
  },
  {
   "cell_type": "markdown",
   "metadata": {},
   "source": [
    "对于系数矩阵$A_{m×n}$的增广矩阵$B$，当$rank(A)=rank(B)=n$时，方程有唯一解，当$rank(A)=rank(B)<n$时,方程组有穷多个解，当$rank(A)<rank(B)$时,方程组无解\n",
    "\n",
    "*增广矩阵又称（扩增矩阵）就是在系数矩阵的右边添上一列，这一列是线性方程组的等号右边的值。所以$rank(A) \\le rank(B)$*"
   ]
  },
  {
   "cell_type": "markdown",
   "metadata": {},
   "source": [
    "当方程组有解是可求出特解"
   ]
  },
  {
   "cell_type": "markdown",
   "metadata": {},
   "source": [
    "当方程组有无穷解时，方程组的通解 = 一个特解 + 对应齐次线性方程组的基础解系的线性组合"
   ]
  },
  {
   "cell_type": "markdown",
   "metadata": {},
   "source": [
    "当方程组有解时，在矛盾线性方程组的最小二乘解中，$x=A^{-1}b$是范数最小的一个解。\n",
    "[广义逆阵](https://zh.wikipedia.org/wiki/%E5%B9%BF%E4%B9%89%E9%80%86%E9%98%B5)\n",
    "[摩尔－彭若斯广义逆](https://zh.wikipedia.org/wiki/%E6%91%A9%E5%B0%94%EF%BC%8D%E5%BD%AD%E8%8B%A5%E6%96%AF%E5%B9%BF%E4%B9%89%E9%80%86)"
   ]
  }
 ],
 "metadata": {
  "kernelspec": {
   "display_name": "Python 2",
   "language": "python",
   "name": "python2"
  },
  "language_info": {
   "codemirror_mode": {
    "name": "ipython",
    "version": 2
   },
   "file_extension": ".py",
   "mimetype": "text/x-python",
   "name": "python",
   "nbconvert_exporter": "python",
   "pygments_lexer": "ipython2",
   "version": "2.7.13"
  }
 },
 "nbformat": 4,
 "nbformat_minor": 2
}
