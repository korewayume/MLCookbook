{
 "cells": [
  {
   "cell_type": "code",
   "execution_count": 1,
   "metadata": {
    "collapsed": true
   },
   "outputs": [],
   "source": [
    "# -*- coding: utf-8 -*-\n",
    "import sys\n",
    "sys.path.insert(0,'/Library/Frameworks/GDAL.framework/Versions/1.11/Python/2.7/site-packages')\n",
    "sys.path.insert(0,'/usr/local/Cellar/opencv/2.4.13.2/lib/python2.7/site-packages')\n",
    "from osgeo import gdal, osr, ogr\n",
    "import matplotlib.pyplot as plt\n",
    "from matplotlib.pyplot import savefig \n",
    "import numpy as np\n",
    "np.random.seed(12345)\n",
    "import scipy as sp\n",
    "import os, math, random, re\n",
    "%matplotlib inline\n",
    "import matplotlib"
   ]
  },
  {
   "cell_type": "code",
   "execution_count": 2,
   "metadata": {
    "collapsed": true
   },
   "outputs": [],
   "source": [
    "RASTER_FILE_PATH = '/Users/mac/Downloads/nanpi/2017'\n",
    "RASTER_REGEX = re.compile(r'^nanpi_ndvi_250m_2017_(?P<month>\\d{2})_(?P<day>\\d{2}).tif$')\n",
    "def ReadBandArray(raster_filename, band_number=1):\n",
    "    try:\n",
    "        raster = gdal.Open(raster_filename)\n",
    "        band = raster.GetRasterBand(band_number)\n",
    "        return band.ReadAsArray()\n",
    "    except Exception as e:\n",
    "        print e\n",
    "        print raster_filename, os.path.exist(raster_filename)\n",
    "\n",
    "raster_filenames = []\n",
    "for dirpath, dirnames, filenames in os.walk(RASTER_FILE_PATH):\n",
    "    for filename in filenames:\n",
    "        if re.match(RASTER_REGEX, filename):\n",
    "            raster_filenames.append(os.path.join(dirpath, filename))"
   ]
  },
  {
   "cell_type": "code",
   "execution_count": 3,
   "metadata": {
    "collapsed": false
   },
   "outputs": [
    {
     "data": {
      "text/plain": [
       "(360000, 150)"
      ]
     },
     "execution_count": 3,
     "metadata": {},
     "output_type": "execute_result"
    }
   ],
   "source": [
    "fit_data = None\n",
    "for filename in raster_filenames:\n",
    "    a = ReadBandArray(filename).reshape(-1,1)\n",
    "    if fit_data is None:\n",
    "        fit_data = a\n",
    "    else:\n",
    "        fit_data = np.hstack((fit_data, a))\n",
    "# fit_data[np.isnan(fit_data)] = 1\n",
    "fit_data.shape"
   ]
  },
  {
   "cell_type": "code",
   "execution_count": 4,
   "metadata": {
    "collapsed": true
   },
   "outputs": [],
   "source": [
    "mask = np.all(np.isnan(fit_data) | np.equal(fit_data, 0), axis=1)\n",
    "notNanData = fit_data[~mask]\n",
    "shape = notNanData.shape"
   ]
  },
  {
   "cell_type": "code",
   "execution_count": 5,
   "metadata": {
    "collapsed": false
   },
   "outputs": [
    {
     "data": {
      "text/plain": [
       "(195348, 150)"
      ]
     },
     "execution_count": 5,
     "metadata": {},
     "output_type": "execute_result"
    }
   ],
   "source": [
    "shape"
   ]
  },
  {
   "cell_type": "code",
   "execution_count": 6,
   "metadata": {
    "collapsed": true
   },
   "outputs": [],
   "source": [
    "idx = np.random.randint(shape[0], size=10000)\n",
    "curves = notNanData[idx,:].tolist()"
   ]
  },
  {
   "cell_type": "code",
   "execution_count": 7,
   "metadata": {
    "collapsed": false
   },
   "outputs": [
    {
     "data": {
      "image/png": "[encoded data removed]",
      "text/plain": [
       "<matplotlib.figure.Figure at 0x10d9c8e50>"
      ]
     },
     "metadata": {},
     "output_type": "display_data"
    }
   ],
   "source": [
    "time_sequence = np.linspace(0, 150, 150)\n",
    "for i,curve in enumerate(curves):\n",
    "    print i\n",
    "    plt.plot(time_sequence, curve, \"r\", label=u\"a\")\n",
    "plt.show()"
   ]
  }
 ],
 "metadata": {
  "kernelspec": {
   "display_name": "Python 2",
   "language": "python",
   "name": "python2"
  },
  "language_info": {
   "codemirror_mode": {
    "name": "ipython",
    "version": 2
   },
   "file_extension": ".py",
   "mimetype": "text/x-python",
   "name": "python",
   "nbconvert_exporter": "python",
   "pygments_lexer": "ipython2",
   "version": "2.7.13"
  }
 },
 "nbformat": 4,
 "nbformat_minor": 2
}
